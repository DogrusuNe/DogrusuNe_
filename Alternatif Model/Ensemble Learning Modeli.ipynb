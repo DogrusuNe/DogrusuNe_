{
 "cells": [
  {
   "cell_type": "code",
   "execution_count": 57,
   "metadata": {
    "scrolled": true
   },
   "outputs": [],
   "source": [
    "import pandas as pd\n",
    "import numpy as np\n",
    "from sklearn import metrics\n",
    "import keras\n",
    "import pickle\n",
    "from keras.preprocessing.text import Tokenizer\n",
    "from keras.preprocessing.sequence import pad_sequences\n",
    "from sklearn.model_selection import train_test_split\n",
    "from vecstack import stacking"
   ]
  },
  {
   "cell_type": "code",
   "execution_count": 58,
   "metadata": {},
   "outputs": [
    {
     "name": "stdout",
     "output_type": "stream",
     "text": [
      "(14882, 2)\n"
     ]
    },
    {
     "data": {
      "text/html": [
       "<div>\n",
       "<style scoped>\n",
       "    .dataframe tbody tr th:only-of-type {\n",
       "        vertical-align: middle;\n",
       "    }\n",
       "\n",
       "    .dataframe tbody tr th {\n",
       "        vertical-align: top;\n",
       "    }\n",
       "\n",
       "    .dataframe thead th {\n",
       "        text-align: right;\n",
       "    }\n",
       "</style>\n",
       "<table border=\"1\" class=\"dataframe\">\n",
       "  <thead>\n",
       "    <tr style=\"text-align: right;\">\n",
       "      <th></th>\n",
       "      <th>line</th>\n",
       "      <th>y</th>\n",
       "    </tr>\n",
       "  </thead>\n",
       "  <tbody>\n",
       "    <tr>\n",
       "      <th>0</th>\n",
       "      <td>şarkıcı norma zimmer ile iyi bir ikili oluşturdu.</td>\n",
       "      <td>1</td>\n",
       "    </tr>\n",
       "    <tr>\n",
       "      <th>1</th>\n",
       "      <td>gemiler kariyerleri boyunca sık sık birlikte h...</td>\n",
       "      <td>1</td>\n",
       "    </tr>\n",
       "    <tr>\n",
       "      <th>2</th>\n",
       "      <td>ayrıca; yarı x iletken özellikleri vardır.</td>\n",
       "      <td>0</td>\n",
       "    </tr>\n",
       "    <tr>\n",
       "      <th>3</th>\n",
       "      <td>futbol oynadığı dönemlerde orta saha pozisyonu...</td>\n",
       "      <td>1</td>\n",
       "    </tr>\n",
       "    <tr>\n",
       "      <th>4</th>\n",
       "      <td>i̇ki fenotip ayrım yapmadan bir arada ürerler.</td>\n",
       "      <td>1</td>\n",
       "    </tr>\n",
       "  </tbody>\n",
       "</table>\n",
       "</div>"
      ],
      "text/plain": [
       "                                                line  y\n",
       "0  şarkıcı norma zimmer ile iyi bir ikili oluşturdu.  1\n",
       "1  gemiler kariyerleri boyunca sık sık birlikte h...  1\n",
       "2         ayrıca; yarı x iletken özellikleri vardır.  0\n",
       "3  futbol oynadığı dönemlerde orta saha pozisyonu...  1\n",
       "4     i̇ki fenotip ayrım yapmadan bir arada ürerler.  1"
      ]
     },
     "execution_count": 58,
     "metadata": {},
     "output_type": "execute_result"
    }
   ],
   "source": [
    "df = pd.read_csv('ilk_asama_data.csv')\n",
    "data = df.copy()\n",
    "print(data.shape)\n",
    "data.head()"
   ]
  },
  {
   "cell_type": "code",
   "execution_count": 59,
   "metadata": {},
   "outputs": [],
   "source": [
    "X = data['line']\n",
    "y = data['y']"
   ]
  },
  {
   "cell_type": "code",
   "execution_count": 60,
   "metadata": {},
   "outputs": [],
   "source": [
    "vocab_size = 15000\n",
    "tokenizer = Tokenizer(vocab_size)\n",
    "tokenizer.fit_on_texts(X)\n",
    "list_tokenized_train = tokenizer.texts_to_sequences(X)"
   ]
  },
  {
   "cell_type": "code",
   "execution_count": 61,
   "metadata": {},
   "outputs": [],
   "source": [
    "maxlen = 7\n",
    "X_train_padded = pad_sequences(list_tokenized_train, maxlen=maxlen)"
   ]
  },
  {
   "cell_type": "code",
   "execution_count": 62,
   "metadata": {},
   "outputs": [],
   "source": [
    "from sklearn.model_selection import train_test_split\n",
    "X_train, X_test, y_train, y_test = train_test_split(X_train_padded, y, test_size=0.2, stratify=y)"
   ]
  },
  {
   "cell_type": "code",
   "execution_count": 63,
   "metadata": {},
   "outputs": [
    {
     "data": {
      "text/plain": [
       "1    5953\n",
       "0    5952\n",
       "Name: y, dtype: int64"
      ]
     },
     "execution_count": 63,
     "metadata": {},
     "output_type": "execute_result"
    }
   ],
   "source": [
    "y_train.value_counts()"
   ]
  },
  {
   "cell_type": "code",
   "execution_count": 64,
   "metadata": {},
   "outputs": [
    {
     "data": {
      "text/plain": [
       "0    1489\n",
       "1    1488\n",
       "Name: y, dtype: int64"
      ]
     },
     "execution_count": 64,
     "metadata": {},
     "output_type": "execute_result"
    }
   ],
   "source": [
    "y_test.value_counts()"
   ]
  },
  {
   "cell_type": "markdown",
   "metadata": {},
   "source": [
    "# Birinci Seviye Algoritmalar"
   ]
  },
  {
   "cell_type": "code",
   "execution_count": 65,
   "metadata": {},
   "outputs": [],
   "source": [
    "from xgboost import XGBClassifier\n",
    "from sklearn.ensemble import ExtraTreesClassifier\n",
    "from sklearn.linear_model import LogisticRegression\n",
    "from sklearn.svm import SVC\n",
    "from sklearn.metrics import accuracy_score"
   ]
  },
  {
   "cell_type": "code",
   "execution_count": 66,
   "metadata": {},
   "outputs": [],
   "source": [
    "models = [\n",
    "    ExtraTreesClassifier(random_state=0,n_estimators=100, max_depth=17),\n",
    "        \n",
    "    LogisticRegression(solver ='lbfgs',max_iter= 1000,random_state=0, multi_class='ovr',class_weight='balanced'),\n",
    "    \n",
    "    SVC(gamma='auto',random_state=0)\n",
    "    \n",
    "]"
   ]
  },
  {
   "cell_type": "markdown",
   "metadata": {},
   "source": [
    "## Stacking"
   ]
  },
  {
   "cell_type": "code",
   "execution_count": 67,
   "metadata": {},
   "outputs": [
    {
     "name": "stdout",
     "output_type": "stream",
     "text": [
      "task:         [classification]\n",
      "n_classes:    [2]\n",
      "metric:       [accuracy_score]\n",
      "mode:         [oof_pred]\n",
      "n_models:     [3]\n",
      "\n",
      "model  0:     [ExtraTreesClassifier]\n",
      "    fold  0:  [0.75986566]\n",
      "    fold  1:  [0.73131822]\n",
      "    fold  2:  [0.74223342]\n",
      "    fold  3:  [0.72795970]\n",
      "    fold  4:  [0.72292191]\n",
      "    fold  5:  [0.74117647]\n",
      "    fold  6:  [0.71764706]\n",
      "    fold  7:  [0.73613445]\n",
      "    fold  8:  [0.74117647]\n",
      "    fold  9:  [0.74705882]\n",
      "    ----\n",
      "    MEAN:     [0.73674922] + [0.01171815]\n",
      "    FULL:     [0.73674927]\n",
      "\n",
      "    Fitting on full train set...\n",
      "\n",
      "model  1:     [LogisticRegression]\n",
      "    fold  0:  [0.55667506]\n",
      "    fold  1:  [0.57430730]\n",
      "    fold  2:  [0.56926952]\n",
      "    fold  3:  [0.55919395]\n",
      "    fold  4:  [0.55331654]\n",
      "    fold  5:  [0.54285714]\n",
      "    fold  6:  [0.55546218]\n",
      "    fold  7:  [0.56134454]\n",
      "    fold  8:  [0.55882353]\n",
      "    fold  9:  [0.56134454]\n",
      "    ----\n",
      "    MEAN:     [0.55925943] + [0.00813007]\n",
      "    FULL:     [0.55926081]\n",
      "\n",
      "    Fitting on full train set...\n",
      "\n",
      "model  2:     [SVC]\n",
      "    fold  0:  [0.49958018]\n",
      "    fold  1:  [0.50041982]\n",
      "    fold  2:  [0.50209908]\n",
      "    fold  3:  [0.50209908]\n",
      "    fold  4:  [0.50461797]\n",
      "    fold  5:  [0.50336134]\n",
      "    fold  6:  [0.50672269]\n",
      "    fold  7:  [0.50504202]\n",
      "    fold  8:  [0.50084034]\n",
      "    fold  9:  [0.50000000]\n",
      "    ----\n",
      "    MEAN:     [0.50247825] + [0.00227364]\n",
      "    FULL:     [0.50247795]\n",
      "\n",
      "    Fitting on full train set...\n",
      "\n"
     ]
    }
   ],
   "source": [
    "S_train, S_test = stacking(models,X_train, y_train, X_test,regression=False,mode='oof_pred',needs_proba=False,save_dir=None,n_folds=10,stratified=True,shuffle=True,verbose=2) "
   ]
  },
  {
   "cell_type": "markdown",
   "metadata": {},
   "source": [
    "# İkinci Seviye Model XGBoost"
   ]
  },
  {
   "cell_type": "code",
   "execution_count": 68,
   "metadata": {},
   "outputs": [],
   "source": [
    "model = XGBClassifier(learning_rate=0.5,eval_metric='logloss',\n",
    "                       use_label_encoder=False,n_estimators=100,max_depth=7,random_state=0)\n",
    "    \n",
    "# Fit 2nd level model\n",
    "model = model.fit(S_train, y_train)\n",
    "\n",
    "# Predict\n",
    "y_pred = model.predict(S_test)\n"
   ]
  },
  {
   "cell_type": "code",
   "execution_count": 69,
   "metadata": {},
   "outputs": [
    {
     "name": "stdout",
     "output_type": "stream",
     "text": [
      "[[1098  391]\n",
      " [ 406 1082]]\n",
      "              precision    recall  f1-score   support\n",
      "\n",
      "           0       0.73      0.74      0.73      1489\n",
      "           1       0.73      0.73      0.73      1488\n",
      "\n",
      "    accuracy                           0.73      2977\n",
      "   macro avg       0.73      0.73      0.73      2977\n",
      "weighted avg       0.73      0.73      0.73      2977\n",
      "\n"
     ]
    }
   ],
   "source": [
    "from sklearn.metrics import classification_report, confusion_matrix\n",
    "print(confusion_matrix(y_test,y_pred))\n",
    "print(classification_report(y_test,y_pred))"
   ]
  },
  {
   "cell_type": "code",
   "execution_count": null,
   "metadata": {},
   "outputs": [],
   "source": []
  }
 ],
 "metadata": {
  "kernelspec": {
   "display_name": "Python 3",
   "language": "python",
   "name": "python3"
  },
  "language_info": {
   "codemirror_mode": {
    "name": "ipython",
    "version": 3
   },
   "file_extension": ".py",
   "mimetype": "text/x-python",
   "name": "python",
   "nbconvert_exporter": "python",
   "pygments_lexer": "ipython3",
   "version": "3.8.8"
  }
 },
 "nbformat": 4,
 "nbformat_minor": 4
}
